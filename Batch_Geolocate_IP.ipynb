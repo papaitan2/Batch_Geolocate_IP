{
  "cells": [
    {
      "cell_type": "code",
      "execution_count": null,
      "metadata": {
        "id": "oZpaCitMWoq0"
      },
      "outputs": [],
      "source": [
        "def leer_lineas_de_archivo(ruta_archivo):\n",
        "  \"\"\"Lee un archivo y devuelve una lista con las líneas del archivo.\n",
        "  Args:\n",
        "      ruta_archivo (str): La ruta del archivo a leer.\n",
        "  Returns:\n",
        "      list: Una lista donde cada elemento es una línea del archivo.\n",
        "  \"\"\"\n",
        "  lineas = []\n",
        "  with open(ruta_archivo, \"r\") as archivo:\n",
        "    for linea in archivo:\n",
        "      lineas.append(linea.strip())\n",
        "  return lineas\n",
        "\n",
        "\n",
        "ruta_archivo = r\"c:\\Evidencias_CASO2A\\ips_del_pcap.txt\" \n",
        "\n",
        "# leer_lineas_de_archivo(ruta_archivo)\n",
        "\n",
        "\n",
        "# print(leer_lineas_de_archivo(ruta_archivo))\n",
        "\n",
        "lista_ips = leer_lineas_de_archivo(ruta_archivo)\n",
        "\n",
        "print(lista_ips)\n",
        "print(len(lista_ips))\n",
        "\n"
      ]
    },
    {
      "cell_type": "code",
      "execution_count": null,
      "metadata": {},
      "outputs": [],
      "source": [
        "# Para obtener Un subconjunto De las direcciones\n",
        "def obtener_sublista(lista, indice_inicio, numero_d_items=4):\n",
        "  \"\"\"Obtiene n elementos de una lista a partir de un índice dado.\n",
        "  Args:\n",
        "      lista: La lista de la que se extraerán los elementos.\n",
        "      indice_inicio: El índice del primer elemento a incluir en la sublista.\n",
        "  Returns:\n",
        "      list: Una nueva lista con los elementos extraídos, o una lista vacía si el índice de inicio está fuera de rango.\n",
        "  \"\"\"\n",
        "  if indice_inicio < 0 or indice_inicio >= len(lista):\n",
        "    return []  \n",
        "  indice_final = min(indice_inicio + numero_d_items, len(lista))  # Asegurar que no nos salgamos de la lista\n",
        "  return lista[indice_inicio:indice_final]\n",
        "\n",
        "\n",
        "lista_ips_2 = obtener_sublista(lista_ips, 2 , 5)\n",
        "print(lista_ips_2)\n",
        "\n"
      ]
    },
    {
      "cell_type": "code",
      "execution_count": null,
      "metadata": {
        "id": "gGhZoAfIX1ok"
      },
      "outputs": [],
      "source": [
        "\n",
        "\n",
        "import urllib.request\n",
        "import csv\n",
        "import json\n",
        "from urllib.error import URLError\n",
        "\n",
        "def obtener_geolocalizacion(lista_ips_2, archivo_salida):\n",
        "    \"\"\"\n",
        "    Obtiene información de geolocalización para una lista de IPs usando ip-api.com y la guarda en un archivo CSV, gestionando errores.\n",
        "    Args:\n",
        "        lista_ips: Una lista de direcciones IP en formato de cadena.\n",
        "        archivo_salida: La ruta del archivo CSV donde se guardarán los resultados.\n",
        "    \"\"\"\n",
        "    base_url = \"http://ip-api.com/json/\"\n",
        "    with open(archivo_salida, 'w', newline='', encoding='utf-8') as csvfile:\n",
        "        fieldnames = ['IP', 'País', 'Ciudad', 'Latitud', 'Longitud', 'Continente', 'Distrito', 'Código Postal', 'Moneda', 'ISP', 'Organización', 'AS', 'Nombre AS', 'Reverse DNS', 'Móvil', 'Proxy', 'Hosting']\n",
        "        writer = csv.DictWriter(csvfile, fieldnames=fieldnames)\n",
        "        writer.writeheader()\n",
        "        for ip in lista_ips_2:\n",
        "            url = base_url + ip\n",
        "            try:\n",
        "                with urllib.request.urlopen(url) as response:  # Timeout de 10 segundos\n",
        "                    if response.status == 200:\n",
        "                        data = json.loads(response.read().decode())\n",
        "                        if data[\"status\"] == \"success\":\n",
        "                            writer.writerow({\n",
        "                                'IP': ip,\n",
        "                                'País': data.get('country'),\n",
        "                                'Ciudad': data.get('city'),\n",
        "                                'Latitud': data.get('lat'),\n",
        "                                'Longitud': data.get('lon'),\n",
        "                                'Continente': data.get('continent'),\n",
        "                                'Distrito': data.get('district'),\n",
        "                                'Código Postal': data.get('zip'),\n",
        "                                'Moneda': data.get('currency'),\n",
        "                                'ISP': data.get('isp'),\n",
        "                                'Organización': data.get('org'),\n",
        "                                'AS': data.get('as'),\n",
        "                                'Nombre AS': data.get('asname'),\n",
        "                                'Reverse DNS': data.get('reverse'),\n",
        "                                'Móvil': data.get('mobile'),\n",
        "                                'Proxy': data.get('proxy'),\n",
        "                                'Hosting': data.get('hosting')\n",
        "                            })\n",
        "                        else:\n",
        "                            # Si el estado no es \"success\", escribir None para los valores\n",
        "                            writer.writerow({'IP': ip} | {key: None for key in fieldnames[1:]})\n",
        "                    else:\n",
        "                        print(f\"Error al obtener información para la IP {ip}: {response.status}\")\n",
        "                        writer.writerow({'IP': ip} | {key: None for key in fieldnames[1:]})\n",
        "            # Manejar errores específicos\n",
        "            # except timeout:\n",
        "                # print(f\"Tiempo de espera agotado para la IP {ip}\")\n",
        "                # writer.writerow({'IP': ip} | {key: None for key in fieldnames[1:]})\n",
        "            except URLError as e:\n",
        "                print(f\"Error en la solicitud para la IP {ip}: {e.reason}\")\n",
        "                writer.writerow({'IP': ip} | {key: None for key in fieldnames[1:]})\n",
        "            except Exception as e:  # Atrapar otros errores\n",
        "                print(f\"Error al procesar la IP {ip}: {e}\")\n",
        "                writer.writerow({'IP': ip} | {key: None for key in fieldnames[1:]})\n",
        "\n",
        "\n",
        "\n"
      ]
    },
    {
      "cell_type": "code",
      "execution_count": null,
      "metadata": {
        "id": "gUOBY7NvYTiA"
      },
      "outputs": [],
      "source": [
        "# Opcion desde colab\n",
        "\n",
        "from google.colab import drive\n",
        "\n",
        "ruta_archivo = 'ips-1.txt'\n",
        "def escribir_ips_a_archivo(lista_ips, ruta_archivo):\n",
        "    \"\"\"Escribe una lista de direcciones IP en un archivo de texto en Google Drive, una IP por línea.\n",
        "    Args:\n",
        "        lista_ips (list): Una lista de direcciones IP.\n",
        "        ruta_archivo (str): El nombre del archivo de texto de salida (e.g., 'archivo.txt').\n",
        "    \"\"\"\n",
        "    drive.mount('/content/drive')  # Monta Google Drive\n",
        "    ruta_completa = f\"/content/drive/MyDrive/LISP/{ruta_archivo}\"\n",
        "    with open(ruta_completa, 'w') as archivo:\n",
        "        for ip in lista_ips:\n",
        "            archivo.write(ip + '\\n')\n",
        "    print(f\"Archivo guardado en Google Drive: {ruta_completa}\")\n",
        "\n"
      ]
    },
    {
      "cell_type": "code",
      "execution_count": null,
      "metadata": {
        "colab": {
          "base_uri": "https://localhost:8080/"
        },
        "id": "f8FT4AfA2Sms",
        "outputId": "5f5b652a-f69b-483a-d469-49214b5e0d58"
      },
      "outputs": [],
      "source": [
        "escribir_ips_a_archivo(lista_ips, ruta_archivo)"
      ]
    },
    {
      "cell_type": "code",
      "execution_count": null,
      "metadata": {
        "id": "OE3-sEpUYUgQ"
      },
      "outputs": [],
      "source": [
        "obtener_geolocalizacion(lista_ips , archivo_salida)\n"
      ]
    }
  ],
  "metadata": {
    "colab": {
      "provenance": []
    },
    "kernelspec": {
      "display_name": "Python 3",
      "name": "python3"
    },
    "language_info": {
      "codemirror_mode": {
        "name": "ipython",
        "version": 3
      },
      "file_extension": ".py",
      "mimetype": "text/x-python",
      "name": "python",
      "nbconvert_exporter": "python",
      "pygments_lexer": "ipython3",
      "version": "3.11.5"
    }
  },
  "nbformat": 4,
  "nbformat_minor": 0
}
